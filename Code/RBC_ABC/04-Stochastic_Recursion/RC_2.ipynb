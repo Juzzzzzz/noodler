{
 "cells": [
  {
   "cell_type": "markdown",
   "metadata": {},
   "source": [
    "## 1. 独立概率的简单经济模型"
   ]
  },
  {
   "cell_type": "markdown",
   "metadata": {},
   "source": [
    "### 初始化参数"
   ]
  },
  {
   "cell_type": "code",
   "execution_count": 1,
   "metadata": {},
   "outputs": [
    {
     "data": {
      "text/plain": [
       "get_EV (generic function with 1 method)"
      ]
     },
     "execution_count": 1,
     "metadata": {},
     "output_type": "execute_result"
    }
   ],
   "source": [
    "θ = 0.36\n",
    "δ = 0.1\n",
    "β = 0.98\n",
    "A1 = 1.75\n",
    "A2 = 0.75\n",
    "p1 = 0.8\n",
    "p2 = 0.2\n",
    "\n",
    "k1 = collect(0.01:0.1:20)\n",
    "k2 = collect(0.01:0.1:20)\n",
    "PFA1 = zero(k1)\n",
    "PFA2 = zero(k1)\n",
    "VA1_1 = zero(k1)  # A1 状态下 t 期值\n",
    "VA1_2 = zero(k1)  # A1 状态下 t+1 期值\n",
    "VA2_1 = zero(k1)  # A2 状态下 t 期值\n",
    "VA2_2 = zero(k1)  # A2 状态下 t+1 期值\n",
    "w1 = zero(k1)\n",
    "w2 = zero(k1)\n",
    "n = length(k1)\n",
    "\n",
    "\n",
    "## 生产函数\n",
    "f(k) = k^θ\n",
    "## 效用函数\n",
    "u(c) = log(c)\n",
    "## 消费\n",
    "get_c(k1, k2, A) = A * f(k1) + (1-δ)*k1 - k2\n",
    "## 折现的期望效用\n",
    "get_EV(V1, V2) = β * (p1 * V1 + p2 * V2)"
   ]
  },
  {
   "cell_type": "markdown",
   "metadata": {},
   "source": [
    "### 一次迭代"
   ]
  },
  {
   "cell_type": "code",
   "execution_count": 2,
   "metadata": {},
   "outputs": [],
   "source": [
    "for i in 1:n\n",
    "    k_t1 = k1[i]\n",
    "    for j in 1:n\n",
    "        k_t2 = k2[j]\n",
    "        c1 = get_c(k_t1, k_t2, A1)\n",
    "        w1[j] = c1 <= 0 ? 1e-10 : u(c1) + get_EV(VA1_2[j], VA2_2[j])\n",
    "        c2 = get_c(k_t1, k_t2, A2)\n",
    "        w2[j] = c2 <= 0 ? 1e-10 : u(c2) + get_EV(VA1_2[j], VA2_2[j])\n",
    "    end\n",
    "    VA1_1[i] = maximum(w1)\n",
    "    PFA1[i] = k2[argmax(w1)]\n",
    "    VA2_1[i] = maximum(w2)\n",
    "    PFA2[i] = k2[argmax(w2)]\n",
    "end"
   ]
  },
  {
   "cell_type": "markdown",
   "metadata": {},
   "source": [
    "### 多次迭代"
   ]
  },
  {
   "cell_type": "code",
   "execution_count": 14,
   "metadata": {},
   "outputs": [],
   "source": [
    "θ = 0.36\n",
    "δ = 0.1\n",
    "β = 0.98\n",
    "A1 = 1.75\n",
    "A2 = 0.75\n",
    "p1 = 0.8\n",
    "p2 = 0.2\n",
    "\n",
    "k1 = collect(0.01:0.1:20)\n",
    "k2 = collect(0.01:0.1:20)\n",
    "PFA1 = zero(k1)\n",
    "PFA2 = zero(k1)\n",
    "VA1_1 = zero(k1)  # A1 状态下 t 期值\n",
    "VA1_2 = zero(k1)  # A1 状态下 t+1 期值\n",
    "VA2_1 = zero(k1)  # A2 状态下 t 期值\n",
    "VA2_2 = zero(k1)  # A2 状态下 t+1 期值\n",
    "w1 = zero(k1)\n",
    "w2 = zero(k1)\n",
    "n = length(k1)\n",
    "\n",
    "\n",
    "## 生产函数\n",
    "f(k) = k^θ\n",
    "## 效用函数\n",
    "u(c) = log(c)\n",
    "## 消费\n",
    "get_c(k1, k2, A) = A * f(k1) + (1-δ)*k1 - k2\n",
    "## 折现的期望效用\n",
    "get_EV(V1, V2) = β * (p1 * V1 + p2 * V2)\n",
    "\n",
    "\n",
    "mm = 250\n",
    "for m in 1:mm\n",
    "    VA1_2 = copy(VA1_1)\n",
    "    VA2_2 = copy(VA2_1)\n",
    "    for i in 1:n\n",
    "        k_t1 = k1[i]\n",
    "        for j in 1:n\n",
    "            k_t2 = k2[j]\n",
    "            c1 = get_c(k_t1, k_t2, A1)\n",
    "            w1[j] = c1 <= 0 ? 1e-10 : u(c1) + get_EV(VA1_2[j], VA2_2[j])\n",
    "            c2 = get_c(k_t1, k_t2, A2)\n",
    "            w2[j] = c2 <= 0 ? 1e-10 : u(c2) + get_EV(VA1_2[j], VA2_2[j])\n",
    "        end\n",
    "        VA1_1[i] = maximum(w1)\n",
    "        PFA1[i] = k2[argmax(w1)]\n",
    "        VA2_1[i] = maximum(w2)\n",
    "        PFA2[i] = k2[argmax(w2)]\n",
    "    end\n",
    "end"
   ]
  },
  {
   "cell_type": "code",
   "execution_count": 4,
   "metadata": {},
   "outputs": [],
   "source": [
    "using Plots"
   ]
  },
  {
   "cell_type": "code",
   "execution_count": 17,
   "metadata": {},
   "outputs": [],
   "source": [
    "plot(k1, [PFA1, PFA2], title = \"Policy Function\", label = [\"A1\" \"A2\"], lw = 3)\n",
    "savefig(\"RC2_Simple_PF.png\")"
   ]
  },
  {
   "cell_type": "markdown",
   "metadata": {},
   "source": [
    "### 模拟"
   ]
  },
  {
   "cell_type": "code",
   "execution_count": 5,
   "metadata": {},
   "outputs": [],
   "source": [
    "n_period = 500\n",
    "\n",
    "skt = zeros(n_period)\n",
    "skt[1] = k1[1]\n",
    "for i in 2:n_period\n",
    "    k_t1 = skt[i-1]\n",
    "    k_t2_A1 = PFA1[k1 .== k_t1][1]\n",
    "    k_t2_A2 = PFA2[k1 .== k_t1][1]\n",
    "    skt[i] = rand() < 0.8 ? k_t2_A1 : k_t2_A2\n",
    "end"
   ]
  },
  {
   "cell_type": "code",
   "execution_count": 40,
   "metadata": {},
   "outputs": [],
   "source": [
    "plot(collect(1:n_period), skt, title = \"Simulation\", label = \"Capital\")\n",
    "savefig(\"RC2_Simple_Simulation.png\")"
   ]
  },
  {
   "cell_type": "markdown",
   "metadata": {},
   "source": [
    "## 2. Markov链的简单经济模型"
   ]
  },
  {
   "cell_type": "markdown",
   "metadata": {},
   "source": [
    "### 迭代"
   ]
  },
  {
   "cell_type": "code",
   "execution_count": 16,
   "metadata": {},
   "outputs": [],
   "source": [
    "θ = 0.36\n",
    "δ = 0.1\n",
    "β = 0.98\n",
    "A1 = 1.75\n",
    "A2 = 0.75\n",
    "p11 = 0.9\n",
    "p12 = 0.1\n",
    "p21 = 0.4\n",
    "p22 = 0.6\n",
    "\n",
    "k1 = collect(0.01:0.1:20)\n",
    "k2 = collect(0.01:0.1:20)\n",
    "PFA1 = zero(k1)\n",
    "PFA2 = zero(k1)\n",
    "VA1_1 = zero(k1)  # A1 状态下 t 期值\n",
    "VA1_2 = zero(k1)  # A1 状态下 t+1 期值\n",
    "VA2_1 = zero(k1)  # A2 状态下 t 期值\n",
    "VA2_2 = zero(k1)  # A2 状态下 t+1 期值\n",
    "w1 = zero(k1)\n",
    "w2 = zero(k1)\n",
    "n = length(k1)\n",
    "\n",
    "\n",
    "## 生产函数\n",
    "f(k) = k^θ\n",
    "## 效用函数\n",
    "u(c) = log(c)\n",
    "## 消费\n",
    "get_c(k1, k2, A) = A * f(k1) + (1-δ)*k1 - k2\n",
    "## 折现的期望效用\n",
    "get_EV1(V1, V2) = β * (p11 * V1 + p12 * V2)\n",
    "get_EV2(V1, V2) = β * (p21 * V1 + p22 * V2)\n",
    "\n",
    "\n",
    "mm = 250\n",
    "for m in 1:mm\n",
    "    VA1_2 = copy(VA1_1)\n",
    "    VA2_2 = copy(VA2_1)\n",
    "    for i in 1:n\n",
    "        k_t1 = k1[i]\n",
    "        for j in 1:n\n",
    "            k_t2 = k2[j]\n",
    "            c1 = get_c(k_t1, k_t2, A1)\n",
    "            w1[j] = c1 <= 0 ? 1e-10 : u(c1) + get_EV1(VA1_2[j], VA2_2[j])\n",
    "            c2 = get_c(k_t1, k_t2, A2)\n",
    "            w2[j] = c2 <= 0 ? 1e-10 : u(c2) + get_EV2(VA1_2[j], VA2_2[j])\n",
    "        end\n",
    "        VA1_1[i] = maximum(w1)\n",
    "        PFA1[i] = k2[argmax(w1)]\n",
    "        VA2_1[i] = maximum(w2)\n",
    "        PFA2[i] = k2[argmax(w2)]\n",
    "    end\n",
    "end"
   ]
  },
  {
   "cell_type": "code",
   "execution_count": 17,
   "metadata": {},
   "outputs": [],
   "source": [
    "plot(k1, [PFA1, PFA2], title = \"Policy Function\", label = [\"A1\" \"A2\"], lw = 3)\n",
    "savefig(\"RC2_Markov_PF.png\")"
   ]
  },
  {
   "cell_type": "markdown",
   "metadata": {},
   "source": [
    "### 模拟"
   ]
  },
  {
   "cell_type": "code",
   "execution_count": 19,
   "metadata": {},
   "outputs": [],
   "source": [
    "n_period = 500\n",
    "\n",
    "skt = zeros(n_period)\n",
    "state = ones(n_period)\n",
    "state[1] = 2\n",
    "skt[1] = k1[1]\n",
    "for i in 2:n_period\n",
    "    k_t1 = skt[i-1]\n",
    "    k_t2_A1 = PFA1[k1 .== k_t1][1]\n",
    "    k_t2_A2 = PFA2[k1 .== k_t1][1]\n",
    "    if state[i-1] == 1\n",
    "        state_rd = rand()\n",
    "        state[i] = state_rd < p11 ? 1 : 2\n",
    "        skt[i] = state_rd < p11 ? k_t2_A1 : k_t2_A2\n",
    "    else\n",
    "        state_rd = rand()\n",
    "        state[i] = state_rd < p21 ? 1 : 2\n",
    "        skt[i] = state_rd < p21 ? k_t2_A1 : k_t2_A2\n",
    "    end\n",
    "end\n",
    "plot(collect(1:n_period), skt, title = \"Simulation\", label = \"Capital\")\n",
    "savefig(\"RC2_Markov_Simulation.png\")\n"
   ]
  },
  {
   "cell_type": "code",
   "execution_count": null,
   "metadata": {},
   "outputs": [],
   "source": []
  }
 ],
 "metadata": {
  "kernelspec": {
   "display_name": "Julia 1.4.2",
   "language": "julia",
   "name": "julia-1.4"
  },
  "language_info": {
   "file_extension": ".jl",
   "mimetype": "application/julia",
   "name": "julia",
   "version": "1.4.2"
  }
 },
 "nbformat": 4,
 "nbformat_minor": 4
}
